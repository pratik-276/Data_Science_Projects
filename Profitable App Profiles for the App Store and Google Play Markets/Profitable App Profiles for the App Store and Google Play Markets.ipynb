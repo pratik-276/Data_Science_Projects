{
 "cells": [
  {
   "cell_type": "markdown",
   "metadata": {},
   "source": [
    "# Profitable App Profiles for the App Store and Google Play Markets\n",
    "\n",
    "Our aim in this project is to find apps that are free to download and install, and our main source of revenue consists of in-app ads. This means our revenue for any given app is mostly influenced by the number of users who use our app — the more users that see and engage with the ads, the better. Our goal for this project is to analyze data to help our developers understand what type of apps are likely to attract more users."
   ]
  },
  {
   "cell_type": "markdown",
   "metadata": {},
   "source": [
    "[Click Here](https://www.kaggle.com/lava18/google-play-store-apps) for Google Play Store Data Set named googleplaystore.csv\n",
    "\n",
    "[Click Here](https://www.kaggle.com/ramamet4/app-store-apple-data-set-10k-apps) for iOS App Store Data Set named AppleStore.csv"
   ]
  },
  {
   "cell_type": "code",
   "execution_count": 2,
   "metadata": {
    "collapsed": false
   },
   "outputs": [],
   "source": [
    "def explore_data(dataset):\n",
    "\n",
    "    #displaying 1st 5 rows of dataset\n",
    "    for rows in dataset[:5]:\n",
    "        print(rows)\n",
    "        print()\n",
    "    print(\"Number of rows = \",len(dataset))\n",
    "    print(\"Number of columns = \",len(dataset[0]))\n",
    "    print()"
   ]
  },
  {
   "cell_type": "code",
   "execution_count": 3,
   "metadata": {
    "collapsed": true
   },
   "outputs": [
    {
     "name": "stdout",
     "output_type": "stream",
     "text": [
      "Applestore.csv ---->\n",
      "['id', 'track_name', 'size_bytes', 'currency', 'price', 'rating_count_tot', 'rating_count_ver', 'user_rating', 'user_rating_ver', 'ver', 'cont_rating', 'prime_genre', 'sup_devices.num', 'ipadSc_urls.num', 'lang.num', 'vpp_lic']\n",
      "\n",
      "['284882215', 'Facebook', '389879808', 'USD', '0.0', '2974676', '212', '3.5', '3.5', '95.0', '4+', 'Social Networking', '37', '1', '29', '1']\n",
      "\n",
      "['389801252', 'Instagram', '113954816', 'USD', '0.0', '2161558', '1289', '4.5', '4.0', '10.23', '12+', 'Photo & Video', '37', '0', '29', '1']\n",
      "\n",
      "['529479190', 'Clash of Clans', '116476928', 'USD', '0.0', '2130805', '579', '4.5', '4.5', '9.24.12', '9+', 'Games', '38', '5', '18', '1']\n",
      "\n",
      "['420009108', 'Temple Run', '65921024', 'USD', '0.0', '1724546', '3842', '4.5', '4.0', '1.6.2', '9+', 'Games', '40', '5', '1', '1']\n",
      "\n",
      "Number of rows =  7198\n",
      "Number of columns =  16\n",
      "\n",
      "googleplaystore.csv ---->\n",
      "['App', 'Category', 'Rating', 'Reviews', 'Size', 'Installs', 'Type', 'Price', 'Content Rating', 'Genres', 'Last Updated', 'Current Ver', 'Android Ver']\n",
      "\n",
      "['Photo Editor & Candy Camera & Grid & ScrapBook', 'ART_AND_DESIGN', '4.1', '159', '19M', '10,000+', 'Free', '0', 'Everyone', 'Art & Design', 'January 7, 2018', '1.0.0', '4.0.3 and up']\n",
      "\n",
      "['Coloring book moana', 'ART_AND_DESIGN', '3.9', '967', '14M', '500,000+', 'Free', '0', 'Everyone', 'Art & Design;Pretend Play', 'January 15, 2018', '2.0.0', '4.0.3 and up']\n",
      "\n",
      "['U Launcher Lite – FREE Live Cool Themes, Hide Apps', 'ART_AND_DESIGN', '4.7', '87510', '8.7M', '5,000,000+', 'Free', '0', 'Everyone', 'Art & Design', 'August 1, 2018', '1.2.4', '4.0.3 and up']\n",
      "\n",
      "['Sketch - Draw & Paint', 'ART_AND_DESIGN', '4.5', '215644', '25M', '50,000,000+', 'Free', '0', 'Teen', 'Art & Design', 'June 8, 2018', 'Varies with device', '4.2 and up']\n",
      "\n",
      "Number of rows =  10842\n",
      "Number of columns =  13\n",
      "\n"
     ]
    }
   ],
   "source": [
    "#Opening and displaying a few rows of Applestore.csv\n",
    "\n",
    "fhand_ios = open(\"AppleStore.csv\")\n",
    "from csv import reader\n",
    "file_read = reader(fhand_ios)\n",
    "ios = list(file_read)\n",
    "print(\"Applestore.csv ---->\")\n",
    "explore_data(ios)\n",
    "\n",
    "#Opening and displaying a few rows of googleplaystore.csv\n",
    "\n",
    "fhand_google = open(\"googleplaystore.csv\")\n",
    "file = reader(fhand_google)\n",
    "ps = list(file)\n",
    "print(\"googleplaystore.csv ---->\")\n",
    "explore_data(ps)\n"
   ]
  },
  {
   "cell_type": "code",
   "execution_count": 4,
   "metadata": {
    "collapsed": false
   },
   "outputs": [
    {
     "name": "stdout",
     "output_type": "stream",
     "text": [
      "Number of duplicate records :  1181\n",
      "Some of the duplicate records are :  ['Quick PDF Scanner + OCR FREE', 'Box', 'Google My Business', 'ZOOM Cloud Meetings', 'join.me - Simple Meetings', 'Box', 'Zenefits', 'Google Ads', 'Google My Business', 'Slack', 'FreshBooks Classic', 'Insightly CRM', 'QuickBooks Accounting: Invoicing & Expenses', 'HipChat - Chat Built for Teams', 'Xero Accounting Software', 'MailChimp - Email, Marketing Automation', 'Crew - Free Messaging and Scheduling', 'Asana: organize team projects', 'Google Analytics', 'AdWords Express']\n"
     ]
    }
   ],
   "source": [
    "# checking for duplicates in google play store dataset\n",
    "unique_google = []\n",
    "duplicate_google = []\n",
    "for rows in ps:\n",
    "    row = rows[0]\n",
    "    if row in unique_google:\n",
    "        duplicate_google.append(row)\n",
    "    else:\n",
    "        unique_google.append(row)\n",
    "print(\"Number of duplicate records : \",len(duplicate_google))\n",
    "print(\"Some of the duplicate records are : \",duplicate_google[:20])"
   ]
  },
  {
   "cell_type": "code",
   "execution_count": 5,
   "metadata": {
    "collapsed": false
   },
   "outputs": [
    {
     "name": "stdout",
     "output_type": "stream",
     "text": [
      "Number of duplicate records :  2\n",
      "Some of the duplicate records are :  ['Mannequin Challenge', 'VR Roller Coaster']\n"
     ]
    }
   ],
   "source": [
    "# checking for duplicates in apple store dataset\n",
    "unique_ios = []\n",
    "duplicate_ios = []\n",
    "for rows in ios:\n",
    "    row = rows[1]\n",
    "    if row in unique_ios:\n",
    "        duplicate_ios.append(row)\n",
    "    else:\n",
    "        unique_ios.append(row)\n",
    "print(\"Number of duplicate records : \",len(duplicate_ios))\n",
    "print(\"Some of the duplicate records are : \",duplicate_ios[:20])"
   ]
  },
  {
   "cell_type": "markdown",
   "metadata": {},
   "source": [
    "We saw that there are 1181 duplicate records in the googleplaystore.csv dataset. So we will now proceed to keep one record per app with highest rating and remove the rest. App with highest rating means that the app is most recent.\n",
    "\n",
    "So to figure out the entry with highest reviews we will create a dictionary and perform some operations to obtain the same."
   ]
  },
  {
   "cell_type": "code",
   "execution_count": 6,
   "metadata": {
    "collapsed": false
   },
   "outputs": [],
   "source": [
    "del ps[10473]   # 10473 has a column shift so we remove it\n",
    "review_max={}\n",
    "for row in ps[1:]:\n",
    "    name = row[0]\n",
    "    n_reviews = float(row[3])\n",
    "    if name in review_max:\n",
    "        if review_max[name]<n_reviews:\n",
    "            review_max[name]=n_reviews\n",
    "    if name not in review_max:\n",
    "        review_max[name]=n_reviews"
   ]
  },
  {
   "cell_type": "markdown",
   "metadata": {},
   "source": [
    "After we have created the dictionary, we will create our own dataset for the processing purpose using the following code:"
   ]
  },
  {
   "cell_type": "code",
   "execution_count": 7,
   "metadata": {
    "collapsed": false
   },
   "outputs": [],
   "source": [
    "#creating our fresh dataset for project with no duplicate records\n",
    "ps_clean = []\n",
    "already_added = []\n",
    "for row in ps[1:]:\n",
    "    name = row[0]\n",
    "    n_reviews = float(row[3])\n",
    "    if review_max[name] == n_reviews and name not in already_added:\n",
    "        ps_clean.append(row)\n",
    "        already_added.append(name)"
   ]
  },
  {
   "cell_type": "markdown",
   "metadata": {},
   "source": [
    "Our motive was to analyse only English apps. So we will make a fresh data set that has only english apps and for that we created a filter function english_check()."
   ]
  },
  {
   "cell_type": "code",
   "execution_count": 8,
   "metadata": {
    "collapsed": false
   },
   "outputs": [],
   "source": [
    "# function to check whether the string is english or not\n",
    "\n",
    "def english_check(string):\n",
    "    c = 0\n",
    "    for i in string:\n",
    "        if not(ord(i)>=0 and ord(i)<=127):\n",
    "            c+=1\n",
    "    if c<=3:\n",
    "        return True\n",
    "    else:\n",
    "        return False"
   ]
  },
  {
   "cell_type": "markdown",
   "metadata": {},
   "source": [
    "So now we will filter our data based on names and form new datasets for google and ios apps."
   ]
  },
  {
   "cell_type": "code",
   "execution_count": 30,
   "metadata": {
    "collapsed": false
   },
   "outputs": [],
   "source": [
    "english_app_google=[]\n",
    "english_app_ios=[]\n",
    "for row in ps_clean:\n",
    "    name = row[0]\n",
    "    res = english_check(name)\n",
    "    if res == True:\n",
    "        english_app_google.append(row)"
   ]
  },
  {
   "cell_type": "code",
   "execution_count": 31,
   "metadata": {
    "collapsed": false
   },
   "outputs": [
    {
     "data": {
      "text/plain": [
       "9614"
      ]
     },
     "execution_count": 31,
     "metadata": {},
     "output_type": "execute_result"
    }
   ],
   "source": [
    "len(english_app_google)"
   ]
  },
  {
   "cell_type": "code",
   "execution_count": 32,
   "metadata": {
    "collapsed": false
   },
   "outputs": [],
   "source": [
    "for row in ios[1:]:\n",
    "    name = row[1]\n",
    "    res = english_check(name)\n",
    "    if res == True:\n",
    "        english_app_ios.append(row)"
   ]
  },
  {
   "cell_type": "code",
   "execution_count": 33,
   "metadata": {
    "collapsed": false
   },
   "outputs": [
    {
     "data": {
      "text/plain": [
       "6183"
      ]
     },
     "execution_count": 33,
     "metadata": {},
     "output_type": "execute_result"
    }
   ],
   "source": [
    "len(english_app_ios)"
   ]
  },
  {
   "cell_type": "markdown",
   "metadata": {},
   "source": [
    "Till now we have filtered out the english apps out of all apps. Our other criteria was the apps must be free. So now we will filter out English apps that are free."
   ]
  },
  {
   "cell_type": "code",
   "execution_count": 34,
   "metadata": {
    "collapsed": false
   },
   "outputs": [],
   "source": [
    "free_english_apps_google=[]\n",
    "free_english_apps_ios=[]\n",
    "for row in english_app_google:\n",
    "    price = row[7]\n",
    "    if price == '0':\n",
    "        free_english_apps_google.append(row)"
   ]
  },
  {
   "cell_type": "code",
   "execution_count": 35,
   "metadata": {
    "collapsed": false
   },
   "outputs": [
    {
     "data": {
      "text/plain": [
       "8864"
      ]
     },
     "execution_count": 35,
     "metadata": {},
     "output_type": "execute_result"
    }
   ],
   "source": [
    "len(free_english_apps_google)"
   ]
  },
  {
   "cell_type": "code",
   "execution_count": 36,
   "metadata": {
    "collapsed": false
   },
   "outputs": [],
   "source": [
    "for row in english_app_ios:\n",
    "    price = row[4]\n",
    "    if price == '0.0':\n",
    "        free_english_apps_ios.append(row)"
   ]
  },
  {
   "cell_type": "code",
   "execution_count": 37,
   "metadata": {
    "collapsed": false
   },
   "outputs": [
    {
     "data": {
      "text/plain": [
       "3222"
      ]
     },
     "execution_count": 37,
     "metadata": {},
     "output_type": "execute_result"
    }
   ],
   "source": [
    "len(free_english_apps_ios)"
   ]
  },
  {
   "cell_type": "markdown",
   "metadata": {},
   "source": [
    "Because our end goal is to add the app on both Google Play and the App Store, we need to find app profiles that are successful on both markets. For instance, a profile that works well for both markets might be a productivity app that makes use of gamification.\n",
    "\n",
    "To minimize risks and overhead, our validation strategy for an app idea is comprised of three steps:\n",
    "\n",
    "1.Build a minimal Android version of the app, and add it to Google Play.\n",
    "\n",
    "2.If the app has a good response from users, we develop it further.\n",
    "\n",
    "3.If the app is profitable after six months, we build an iOS version of the app and add it to the App Store."
   ]
  },
  {
   "cell_type": "code",
   "execution_count": 38,
   "metadata": {
    "collapsed": true
   },
   "outputs": [],
   "source": [
    "#function to find frequency table\n",
    "def freq_table(dataset, index):\n",
    "    table = {}\n",
    "    total = 0\n",
    "    \n",
    "    for row in dataset:\n",
    "        total += 1\n",
    "        value = row[index]\n",
    "        table[value] = table.get(value,0)+1\n",
    "    \n",
    "    table_percentages = {}\n",
    "    for key in table:\n",
    "        percentage = (table[key] / total) * 100\n",
    "        table_percentages[key] = percentage \n",
    "    \n",
    "    return table_percentages"
   ]
  },
  {
   "cell_type": "code",
   "execution_count": 39,
   "metadata": {
    "collapsed": true
   },
   "outputs": [],
   "source": [
    "# function to find fequency table and display it in descending order\n",
    "def display_table(dataset, index):\n",
    "    table = freq_table(dataset, index)\n",
    "    table_display = []\n",
    "    for key in table:\n",
    "        key_val_as_tuple = (table[key], key)\n",
    "        table_display.append(key_val_as_tuple)\n",
    "\n",
    "    table_sorted = sorted(table_display, reverse = True)\n",
    "    for entry in table_sorted:\n",
    "        print(entry[1], ':', entry[0])"
   ]
  },
  {
   "cell_type": "code",
   "execution_count": 40,
   "metadata": {
    "collapsed": false
   },
   "outputs": [
    {
     "name": "stdout",
     "output_type": "stream",
     "text": [
      "FAMILY : 19.40159436794699\n",
      "GAME : 9.793974531525002\n",
      "TOOLS : 8.582669013355419\n",
      "BUSINESS : 4.348276219070297\n",
      "MEDICAL : 4.089450253649446\n",
      "PERSONALIZATION : 3.892742519929599\n",
      "PRODUCTIVITY : 3.8720364426959315\n",
      "LIFESTYLE : 3.820271249611761\n",
      "FINANCE : 3.571798322807744\n",
      "SPORTS : 3.3647375504710633\n",
      "COMMUNICATION : 3.2612071643027227\n",
      "HEALTH_AND_FITNESS : 2.9816751216482036\n",
      "PHOTOGRAPHY : 2.9092038513303655\n",
      "NEWS_AND_MAGAZINES : 2.6296718086758464\n",
      "SOCIAL : 2.474376229423336\n",
      "BOOKS_AND_REFERENCE : 2.298374572937157\n",
      "TRAVEL_AND_LOCAL : 2.2673154570866547\n",
      "SHOPPING : 2.0913138006004766\n",
      "DATING : 1.760016564861787\n",
      "VIDEO_PLAYERS : 1.6978983331607829\n",
      "MAPS_AND_NAVIGATION : 1.3562480588052592\n",
      "FOOD_AND_DRINK : 1.1595403250854126\n",
      "EDUCATION : 1.1077751320012423\n",
      "ENTERTAINMENT : 0.9007143596645615\n",
      "AUTO_AND_VEHICLES : 0.8800082824308935\n",
      "LIBRARIES_AND_DEMO : 0.8696552438140595\n",
      "WEATHER : 0.8178900507298892\n",
      "HOUSE_AND_HOME : 0.7557718190288849\n",
      "EVENTS : 0.6625944714773786\n",
      "ART_AND_DESIGN : 0.6315353556268765\n",
      "PARENTING : 0.6211823170100425\n",
      "COMICS : 0.5797701625427063\n",
      "BEAUTY : 0.5487110466922042\n"
     ]
    }
   ],
   "source": [
    "#category\n",
    "\n",
    "display_table(ps_clean,1)"
   ]
  },
  {
   "cell_type": "code",
   "execution_count": 41,
   "metadata": {
    "collapsed": false
   },
   "outputs": [
    {
     "name": "stdout",
     "output_type": "stream",
     "text": [
      "Tools : 8.572315974738585\n",
      "Entertainment : 5.808054664043897\n",
      "Education : 5.280049694585361\n",
      "Business : 4.348276219070297\n",
      "Medical : 4.089450253649446\n",
      "Personalization : 3.892742519929599\n",
      "Productivity : 3.8720364426959315\n",
      "Lifestyle : 3.8099182109949266\n",
      "Finance : 3.571798322807744\n",
      "Sports : 3.4268557821720678\n",
      "Communication : 3.2612071643027227\n",
      "Action : 3.095558546433378\n",
      "Health & Fitness : 2.9816751216482036\n",
      "Photography : 2.9092038513303655\n",
      "News & Magazines : 2.6296718086758464\n",
      "Social : 2.474376229423336\n",
      "Books & Reference : 2.298374572937157\n",
      "Travel & Local : 2.2569624184698207\n",
      "Shopping : 2.0913138006004766\n",
      "Simulation : 1.9981364530489698\n",
      "Arcade : 1.9049591054974633\n",
      "Dating : 1.760016564861787\n",
      "Casual : 1.7082513717776169\n",
      "Video Players & Editors : 1.6771922559271144\n",
      "Maps & Navigation : 1.3562480588052592\n",
      "Puzzle : 1.232011595403251\n",
      "Food & Drink : 1.1595403250854126\n",
      "Role Playing : 1.0870690547675743\n",
      "Strategy : 0.9835386685992339\n",
      "Racing : 0.9421265141318977\n",
      "Auto & Vehicles : 0.8800082824308935\n",
      "Libraries & Demo : 0.8696552438140595\n",
      "Weather : 0.8178900507298892\n",
      "House & Home : 0.7557718190288849\n",
      "Adventure : 0.7557718190288849\n",
      "Events : 0.6625944714773786\n",
      "Art & Design : 0.5901232011595403\n",
      "Comics : 0.5694171239258723\n",
      "Beauty : 0.5487110466922042\n",
      "Card : 0.4865928149911999\n",
      "Parenting : 0.4762397763743658\n",
      "Board : 0.4348276219070297\n",
      "Casino : 0.4037685060565276\n",
      "Trivia : 0.3934154674396935\n",
      "Educational;Education : 0.3934154674396935\n",
      "Educational : 0.3830624288228595\n",
      "Education;Education : 0.37270939020602545\n",
      "Casual;Pretend Play : 0.258825965420851\n",
      "Word : 0.2381198881871829\n",
      "Music : 0.19670773371984676\n",
      "Puzzle;Brain Games : 0.1760016564861787\n",
      "Education;Pretend Play : 0.1760016564861787\n",
      "Racing;Action & Adventure : 0.16564861786934465\n",
      "Entertainment;Music & Video : 0.1552955792525106\n",
      "Board;Brain Games : 0.14494254063567658\n",
      "Arcade;Action & Adventure : 0.14494254063567658\n",
      "Educational;Pretend Play : 0.13458950201884254\n",
      "Casual;Action & Adventure : 0.13458950201884254\n",
      "Casual;Brain Games : 0.12423646340200849\n",
      "Action;Action & Adventure : 0.12423646340200849\n",
      "Simulation;Action & Adventure : 0.07247127031783829\n",
      "Parenting;Education : 0.07247127031783829\n",
      "Entertainment;Brain Games : 0.07247127031783829\n",
      "Parenting;Music & Video : 0.062118231701004244\n",
      "Educational;Brain Games : 0.062118231701004244\n",
      "Education;Creativity : 0.062118231701004244\n",
      "Casual;Creativity : 0.062118231701004244\n",
      "Art & Design;Creativity : 0.062118231701004244\n",
      "Educational;Creativity : 0.05176519308417021\n",
      "Adventure;Action & Adventure : 0.05176519308417021\n",
      "Sports;Action & Adventure : 0.04141215446733616\n",
      "Role Playing;Pretend Play : 0.04141215446733616\n",
      "Role Playing;Action & Adventure : 0.04141215446733616\n",
      "Education;Brain Games : 0.04141215446733616\n",
      "Education;Action & Adventure : 0.04141215446733616\n",
      "Simulation;Pretend Play : 0.031059115850502122\n",
      "Simulation;Education : 0.031059115850502122\n",
      "Puzzle;Action & Adventure : 0.031059115850502122\n",
      "Music;Music & Video : 0.031059115850502122\n",
      "Entertainment;Creativity : 0.031059115850502122\n",
      "Entertainment;Action & Adventure : 0.031059115850502122\n",
      "Educational;Action & Adventure : 0.031059115850502122\n",
      "Education;Music & Video : 0.031059115850502122\n",
      "Casual;Education : 0.031059115850502122\n",
      "Board;Action & Adventure : 0.031059115850502122\n",
      "Video Players & Editors;Music & Video : 0.02070607723366808\n",
      "Strategy;Action & Adventure : 0.02070607723366808\n",
      "Puzzle;Creativity : 0.02070607723366808\n",
      "Entertainment;Pretend Play : 0.02070607723366808\n",
      "Card;Action & Adventure : 0.02070607723366808\n",
      "Books & Reference;Education : 0.02070607723366808\n",
      "Video Players & Editors;Creativity : 0.01035303861683404\n",
      "Trivia;Education : 0.01035303861683404\n",
      "Travel & Local;Action & Adventure : 0.01035303861683404\n",
      "Tools;Education : 0.01035303861683404\n",
      "Strategy;Education : 0.01035303861683404\n",
      "Strategy;Creativity : 0.01035303861683404\n",
      "Role Playing;Education : 0.01035303861683404\n",
      "Role Playing;Brain Games : 0.01035303861683404\n",
      "Racing;Pretend Play : 0.01035303861683404\n",
      "Puzzle;Education : 0.01035303861683404\n",
      "Parenting;Brain Games : 0.01035303861683404\n",
      "Music & Audio;Music & Video : 0.01035303861683404\n",
      "Lifestyle;Pretend Play : 0.01035303861683404\n",
      "Lifestyle;Education : 0.01035303861683404\n",
      "Health & Fitness;Education : 0.01035303861683404\n",
      "Health & Fitness;Action & Adventure : 0.01035303861683404\n",
      "Entertainment;Education : 0.01035303861683404\n",
      "Communication;Creativity : 0.01035303861683404\n",
      "Comics;Creativity : 0.01035303861683404\n",
      "Casual;Music & Video : 0.01035303861683404\n",
      "Books & Reference;Creativity : 0.01035303861683404\n",
      "Board;Pretend Play : 0.01035303861683404\n",
      "Art & Design;Pretend Play : 0.01035303861683404\n",
      "Art & Design;Action & Adventure : 0.01035303861683404\n",
      "Arcade;Pretend Play : 0.01035303861683404\n",
      "Adventure;Education : 0.01035303861683404\n",
      "Adventure;Brain Games : 0.01035303861683404\n"
     ]
    }
   ],
   "source": [
    "#Genres\n",
    "\n",
    "display_table(ps_clean,-4)"
   ]
  },
  {
   "cell_type": "code",
   "execution_count": 42,
   "metadata": {
    "collapsed": false
   },
   "outputs": [
    {
     "name": "stdout",
     "output_type": "stream",
     "text": [
      "Games : 53.65379272020006\n",
      "Entertainment : 7.4326201722700755\n",
      "Education : 6.293414837454849\n",
      "Photo & Video : 4.848569046957488\n",
      "Utilities : 3.445401500416782\n",
      "Health & Fitness : 2.5006946373992776\n",
      "Productivity : 2.4729091414281745\n",
      "Social Networking : 2.3200889135871074\n",
      "Lifestyle : 2.0005557099194218\n",
      "Music : 1.9171992220061127\n",
      "Shopping : 1.694915254237288\n",
      "Sports : 1.5837732703528755\n",
      "Book : 1.5559877743817727\n",
      "Finance : 1.4448457904973604\n",
      "Travel : 1.125312586829675\n",
      "News : 1.0419560989163656\n",
      "Weather : 1.0002778549597109\n",
      "Reference : 0.8891358710752986\n",
      "Food & Drink : 0.875243123089747\n",
      "Business : 0.7918866351764378\n",
      "Navigation : 0.6390664073353709\n",
      "Medical : 0.31953320366768545\n",
      "Catalogs : 0.13892747985551543\n",
      "prime_genre : 0.01389274798555154\n"
     ]
    }
   ],
   "source": [
    "#prime_genre\n",
    "\n",
    "display_table(ios,-5)"
   ]
  },
  {
   "cell_type": "markdown",
   "metadata": {},
   "source": [
    "# Most Common Genres of AppStore.csv Dataset"
   ]
  },
  {
   "cell_type": "markdown",
   "metadata": {},
   "source": [
    "From the above output of  "
   ]
  },
  {
   "cell_type": "markdown",
   "metadata": {},
   "source": [
    " > display_table(ios,-5)"
   ]
  },
  {
   "cell_type": "markdown",
   "metadata": {},
   "source": [
    "we can see that Gaming is the most common genre of ios store with 53.65379272020006%"
   ]
  },
  {
   "cell_type": "markdown",
   "metadata": {},
   "source": [
    "Other runner-ups include:-\n",
    "\n",
    "Entertainment : 7.4326201722700755 %\n",
    "\n",
    "Education : 6.293414837454849 %\n",
    "\n",
    "Photo & Video : 4.848569046957488 %\n",
    "\n",
    "And many more"
   ]
  },
  {
   "cell_type": "markdown",
   "metadata": {},
   "source": [
    "# What is the general impression — are most of the apps designed for practical purposes (education, shopping, utilities, productivity, lifestyle) or more for entertainment (games, photo and video, social networking, sports, music)?"
   ]
  },
  {
   "cell_type": "markdown",
   "metadata": {},
   "source": [
    "From the above analysis we can say that most apps are gaming and entertainment apps but education also holds a percentage of 6.3 (rounded).\n",
    "\n",
    "But overall we can say that most apps are entertainment based."
   ]
  },
  {
   "cell_type": "markdown",
   "metadata": {},
   "source": [
    "# Can you recommend an app profile for the App Store market based on this frequency table alone? If there's a large number of apps for a particular genre, does that also imply that apps of that genre generally have a large number of users?"
   ]
  },
  {
   "cell_type": "markdown",
   "metadata": {},
   "source": [
    "According to frequency table Games hold the maximum number of apps. As we are not provided with the number of users by the frequency table it is not possible to predict at the moment."
   ]
  },
  {
   "cell_type": "markdown",
   "metadata": {},
   "source": [
    "# Analyze the frequency table you generated for the Category and Genres column of the Google Play data set."
   ]
  },
  {
   "cell_type": "markdown",
   "metadata": {
    "collapsed": true
   },
   "source": [
    "# Most common genres are:\n",
    "\n",
    "Tools : 8.572315974738585\n",
    "\n",
    "Entertainment : 5.808054664043897\n",
    "\n",
    "Education : 5.280049694585361\n",
    "\n",
    "Business : 4.348276219070297\n",
    "\n",
    "Medical : 4.089450253649446\n",
    "\n",
    "Personalization : 3.892742519929599"
   ]
  },
  {
   "cell_type": "code",
   "execution_count": 46,
   "metadata": {
    "collapsed": false
   },
   "outputs": [
    {
     "data": {
      "text/plain": [
       "{'Book': 1.5562039738780047,\n",
       " 'Business': 0.7919966652771988,\n",
       " 'Catalogs': 0.1389467833819647,\n",
       " 'Education': 6.294289287203002,\n",
       " 'Entertainment': 7.433652910935113,\n",
       " 'Finance': 1.445046547172433,\n",
       " 'Food & Drink': 0.8753647353063776,\n",
       " 'Games': 53.66124774211477,\n",
       " 'Health & Fitness': 2.501042100875365,\n",
       " 'Lifestyle': 2.0008336807002918,\n",
       " 'Medical': 0.31957760177851885,\n",
       " 'Music': 1.9174656106711132,\n",
       " 'Navigation': 0.6391552035570377,\n",
       " 'News': 1.0421008753647354,\n",
       " 'Photo & Video': 4.849242740030569,\n",
       " 'Productivity': 2.473252744198972,\n",
       " 'Reference': 0.8892594136445742,\n",
       " 'Shopping': 1.6951507572599693,\n",
       " 'Social Networking': 2.3204112824788106,\n",
       " 'Sports': 1.5839933305543976,\n",
       " 'Travel': 1.1254689453939142,\n",
       " 'Utilities': 3.4458802278727245,\n",
       " 'Weather': 1.0004168403501459}"
      ]
     },
     "execution_count": 46,
     "metadata": {},
     "output_type": "execute_result"
    }
   ],
   "source": [
    "genre_apple = freq_table(ios[1:],-5)\n",
    "genre_apple"
   ]
  },
  {
   "cell_type": "code",
   "execution_count": 47,
   "metadata": {
    "collapsed": false
   },
   "outputs": [
    {
     "name": "stdout",
     "output_type": "stream",
     "text": [
      "Health & Fitness  :  9913.172222222222\n",
      "Shopping  :  18615.32786885246\n",
      "Business  :  4788.087719298245\n",
      "Lifestyle  :  6161.763888888889\n",
      "Navigation  :  11853.95652173913\n",
      "Utilities  :  6863.822580645161\n",
      "News  :  13015.066666666668\n",
      "Photo & Video  :  14352.280802292264\n",
      "Games  :  13691.996633868463\n",
      "Travel  :  14129.444444444445\n",
      "Food & Drink  :  13938.619047619048\n",
      "Social Networking  :  45498.89820359281\n",
      "Finance  :  11047.653846153846\n",
      "Catalogs  :  1732.5\n",
      "Entertainment  :  7533.678504672897\n",
      "Sports  :  14026.929824561403\n",
      "Reference  :  22410.84375\n",
      "Weather  :  22181.027777777777\n",
      "Productivity  :  8051.3258426966295\n",
      "Education  :  2239.2295805739514\n",
      "Book  :  5125.4375\n",
      "Music  :  28842.021739130436\n",
      "Medical  :  592.7826086956521\n"
     ]
    }
   ],
   "source": [
    "for genre in genre_apple:\n",
    "    total=0\n",
    "    len_genre = 0\n",
    "    for row in ios[1:]:\n",
    "        genre_app = row[-5]\n",
    "        if genre_app == genre:\n",
    "            total +=float(row[5])\n",
    "            len_genre+=1\n",
    "    print(genre, \" : \",total/len_genre)"
   ]
  },
  {
   "cell_type": "markdown",
   "metadata": {},
   "source": [
    "## Recommendation for Apple Store"
   ]
  },
  {
   "cell_type": "markdown",
   "metadata": {},
   "source": [
    "<h6> App Profile :- <b>Social Media and Networking</b></h6>"
   ]
  },
  {
   "cell_type": "code",
   "execution_count": 51,
   "metadata": {
    "collapsed": false
   },
   "outputs": [
    {
     "data": {
      "text/plain": [
       "{'ART_AND_DESIGN': 0.6315353556268765,\n",
       " 'AUTO_AND_VEHICLES': 0.8800082824308935,\n",
       " 'BEAUTY': 0.5487110466922042,\n",
       " 'BOOKS_AND_REFERENCE': 2.298374572937157,\n",
       " 'BUSINESS': 4.348276219070297,\n",
       " 'COMICS': 0.5797701625427063,\n",
       " 'COMMUNICATION': 3.2612071643027227,\n",
       " 'DATING': 1.760016564861787,\n",
       " 'EDUCATION': 1.1077751320012423,\n",
       " 'ENTERTAINMENT': 0.9007143596645615,\n",
       " 'EVENTS': 0.6625944714773786,\n",
       " 'FAMILY': 19.40159436794699,\n",
       " 'FINANCE': 3.571798322807744,\n",
       " 'FOOD_AND_DRINK': 1.1595403250854126,\n",
       " 'GAME': 9.793974531525002,\n",
       " 'HEALTH_AND_FITNESS': 2.9816751216482036,\n",
       " 'HOUSE_AND_HOME': 0.7557718190288849,\n",
       " 'LIBRARIES_AND_DEMO': 0.8696552438140595,\n",
       " 'LIFESTYLE': 3.820271249611761,\n",
       " 'MAPS_AND_NAVIGATION': 1.3562480588052592,\n",
       " 'MEDICAL': 4.089450253649446,\n",
       " 'NEWS_AND_MAGAZINES': 2.6296718086758464,\n",
       " 'PARENTING': 0.6211823170100425,\n",
       " 'PERSONALIZATION': 3.892742519929599,\n",
       " 'PHOTOGRAPHY': 2.9092038513303655,\n",
       " 'PRODUCTIVITY': 3.8720364426959315,\n",
       " 'SHOPPING': 2.0913138006004766,\n",
       " 'SOCIAL': 2.474376229423336,\n",
       " 'SPORTS': 3.3647375504710633,\n",
       " 'TOOLS': 8.582669013355419,\n",
       " 'TRAVEL_AND_LOCAL': 2.2673154570866547,\n",
       " 'VIDEO_PLAYERS': 1.6978983331607829,\n",
       " 'WEATHER': 0.8178900507298892}"
      ]
     },
     "execution_count": 51,
     "metadata": {},
     "output_type": "execute_result"
    }
   ],
   "source": [
    "genre_google = freq_table(ps_clean,1)\n",
    "genre_google"
   ]
  },
  {
   "cell_type": "code",
   "execution_count": 60,
   "metadata": {
    "collapsed": false
   },
   "outputs": [
    {
     "name": "stdout",
     "output_type": "stream",
     "text": [
      "TOOLS  :  9774151.887816647\n",
      "BUSINESS  :  1659916.3452380951\n",
      "EVENTS  :  249580.640625\n",
      "COMICS  :  803234.8214285715\n",
      "VIDEO_PLAYERS  :  23975016.585365854\n",
      "BEAUTY  :  513151.88679245283\n",
      "WEATHER  :  4570892.658227848\n",
      "LIBRARIES_AND_DEMO  :  630903.6904761905\n",
      "DATING  :  828971.2176470588\n",
      "BOOKS_AND_REFERENCE  :  7504367.459459459\n",
      "HEALTH_AND_FITNESS  :  3972300.388888889\n",
      "FAMILY  :  3319926.0965848453\n",
      "SHOPPING  :  6932419.727722772\n",
      "TRAVEL_AND_LOCAL  :  13218662.767123288\n",
      "FOOD_AND_DRINK  :  1891060.2767857143\n",
      "COMMUNICATION  :  35042146.82857143\n",
      "HOUSE_AND_HOME  :  1331540.5616438356\n",
      "SPORTS  :  3373767.6861538463\n",
      "FINANCE  :  1319851.4028985507\n",
      "NEWS_AND_MAGAZINES  :  9327628.976377953\n",
      "GAME  :  14226135.745243128\n",
      "ART_AND_DESIGN  :  1856362.2950819673\n",
      "SOCIAL  :  22961790.384937238\n",
      "LIFESTYLE  :  1365375.4444444445\n",
      "PERSONALIZATION  :  4075783.994680851\n",
      "ENTERTAINMENT  :  11375402.298850575\n",
      "PARENTING  :  525351.8333333334\n",
      "MEDICAL  :  96944.49873417722\n",
      "AUTO_AND_VEHICLES  :  625061.305882353\n",
      "EDUCATION  :  1775252.3364485982\n",
      "PRODUCTIVITY  :  15489549.114973262\n",
      "MAPS_AND_NAVIGATION  :  3841846.4885496185\n",
      "PHOTOGRAPHY  :  16577037.918149466\n"
     ]
    }
   ],
   "source": [
    "for genre in genre_google:\n",
    "    total = 0\n",
    "    len_category = 0\n",
    "    for row in ps_clean:\n",
    "        category_app = row[1]\n",
    "        if category_app == genre:\n",
    "            noi=row[5]\n",
    "            noi = noi.replace('+','')\n",
    "            noi = noi.replace(',','')\n",
    "            installs=float(noi)\n",
    "            total+=installs\n",
    "            len_category+=1\n",
    "    print(genre,\" : \",total/len_category)"
   ]
  },
  {
   "cell_type": "markdown",
   "metadata": {},
   "source": [
    "## Recomendation for Google Play Store"
   ]
  },
  {
   "cell_type": "markdown",
   "metadata": {},
   "source": [
    "<h6>App category with maximum number of installs :- <b> Communication</b></h6>"
   ]
  }
 ],
 "metadata": {
  "kernelspec": {
   "display_name": "Python 3",
   "language": "python",
   "name": "python3"
  },
  "language_info": {
   "codemirror_mode": {
    "name": "ipython",
    "version": 3
   },
   "file_extension": ".py",
   "mimetype": "text/x-python",
   "name": "python",
   "nbconvert_exporter": "python",
   "pygments_lexer": "ipython3",
   "version": "3.4.3"
  }
 },
 "nbformat": 4,
 "nbformat_minor": 2
}
